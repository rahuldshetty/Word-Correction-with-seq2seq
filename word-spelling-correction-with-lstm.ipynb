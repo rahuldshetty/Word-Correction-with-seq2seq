{
 "cells": [
  {
   "cell_type": "code",
   "execution_count": 1,
   "metadata": {
    "_cell_guid": "b1076dfc-b9ad-4769-8c92-a6c4dae69d19",
    "_uuid": "8f2839f25d086af736a60e9eeb907d3b93b6e0e5"
   },
   "outputs": [
    {
     "name": "stdout",
     "output_type": "stream",
     "text": [
      "['unigram_freq.csv']\n"
     ]
    }
   ],
   "source": [
    "%matplotlib inline\n",
    "import matplotlib.pyplot as plt\n",
    "import numpy as np # linear algebra\n",
    "import pandas as pd # data processing, CSV file I/O (e.g. pd.read_csv)\n",
    "import os\n",
    "print(os.listdir(\"../input\"))\n"
   ]
  },
  {
   "cell_type": "code",
   "execution_count": 2,
   "metadata": {
    "_cell_guid": "79c7e3d0-c299-4dcb-8224-4455121ee9b0",
    "_uuid": "d629ff2d2480ee46fbb7e2d37f6b5fab8052498a"
   },
   "outputs": [
    {
     "name": "stdout",
     "output_type": "stream",
     "text": [
      "(333333, 2)\n",
      "(333333, 2)\n"
     ]
    }
   ],
   "source": [
    "# File loading\n",
    "df  = pd.read_csv('../input/unigram_freq.csv')\n",
    "print(df.shape)\n",
    "df.dropna(axis=0,how='any')\n",
    "print(df.shape)\n"
   ]
  },
  {
   "cell_type": "code",
   "execution_count": 3,
   "metadata": {},
   "outputs": [
    {
     "name": "stdout",
     "output_type": "stream",
     "text": [
      "Line Count: 333331\n",
      "['the', 'of', 'and', 'to']\n"
     ]
    }
   ],
   "source": [
    "lines = [x for x in df['word'] if type(x) == type('a') ]\n",
    "print(\"Line Count:\",len(lines))\n",
    "print(lines[:4])"
   ]
  },
  {
   "cell_type": "code",
   "execution_count": 4,
   "metadata": {},
   "outputs": [],
   "source": [
    "# Preprocessing\n",
    "import re\n",
    "def process(sent):\n",
    "    sent=sent.lower()\n",
    "    sent=re.sub(r'[^0-9a-zA-Z ]','',sent)\n",
    "    sent=sent.replace('\\n','')\n",
    "    return sent    "
   ]
  },
  {
   "cell_type": "code",
   "execution_count": 5,
   "metadata": {},
   "outputs": [
    {
     "name": "stdout",
     "output_type": "stream",
     "text": [
      "speedkill\n",
      "biscuit\n",
      "qtt\n",
      "weathergoth\n",
      "Number of items: 333331\n"
     ]
    }
   ],
   "source": [
    "lines =[process(x) for x in lines]\n",
    "temp = []\n",
    "for line in lines:\n",
    "    temp+= [ x for x in line.split() ]\n",
    "lines = list(set(temp))\n",
    "print(\"\\n\".join(lines[:4]))\n",
    "print(\"Number of items:\",len(lines))"
   ]
  },
  {
   "cell_type": "code",
   "execution_count": 6,
   "metadata": {},
   "outputs": [
    {
     "name": "stdout",
     "output_type": "stream",
     "text": [
      "{' ': 0, 'a': 1, 'b': 2, 'c': 3, 'd': 4, 'e': 5, 'f': 6, 'g': 7, 'h': 8, 'i': 9, 'j': 10, 'k': 11, 'l': 12, 'm': 13, 'n': 14, 'o': 15, 'p': 16, 'q': 17, 'r': 18, 's': 19, 't': 20, 'u': 21, 'v': 22, 'w': 23, 'x': 24, 'y': 25, 'z': 26, '0': 27, '1': 28, '2': 29, '3': 30, '4': 31, '5': 32, '6': 33, '7': 34, '8': 35, '9': 36}\n",
      "{0: ' ', 1: 'a', 2: 'b', 3: 'c', 4: 'd', 5: 'e', 6: 'f', 7: 'g', 8: 'h', 9: 'i', 10: 'j', 11: 'k', 12: 'l', 13: 'm', 14: 'n', 15: 'o', 16: 'p', 17: 'q', 18: 'r', 19: 's', 20: 't', 21: 'u', 22: 'v', 23: 'w', 24: 'x', 25: 'y', 26: 'z', 27: '0', 28: '1', 29: '2', 30: '3', 31: '4', 32: '5', 33: '6', 34: '7', 35: '8', 36: '9'}\n"
     ]
    }
   ],
   "source": [
    "# CHAR INDEXING\n",
    "char_set = list(\" abcdefghijklmnopqrstuvwxyz0123456789\")\n",
    "char2int = { char_set[x]:x for x in range(len(char_set)) }\n",
    "int2char = { char2int[x]:x for x in char_set }\n",
    "print(char2int)\n",
    "print(int2char)"
   ]
  },
  {
   "cell_type": "code",
   "execution_count": 7,
   "metadata": {},
   "outputs": [
    {
     "name": "stdout",
     "output_type": "stream",
     "text": [
      "{' ': 0, 'a': 1, 'b': 2, 'c': 3, 'd': 4, 'e': 5, 'f': 6, 'g': 7, 'h': 8, 'i': 9, 'j': 10, 'k': 11, 'l': 12, 'm': 13, 'n': 14, 'o': 15, 'p': 16, 'q': 17, 'r': 18, 's': 19, 't': 20, 'u': 21, 'v': 22, 'w': 23, 'x': 24, 'y': 25, 'z': 26, '0': 27, '1': 28, '2': 29, '3': 30, '4': 31, '5': 32, '6': 33, '7': 34, '8': 35, '9': 36, '\\t': 37, '\\n': 38, '#': 39}\n",
      "{0: ' ', 1: 'a', 2: 'b', 3: 'c', 4: 'd', 5: 'e', 6: 'f', 7: 'g', 8: 'h', 9: 'i', 10: 'j', 11: 'k', 12: 'l', 13: 'm', 14: 'n', 15: 'o', 16: 'p', 17: 'q', 18: 'r', 19: 's', 20: 't', 21: 'u', 22: 'v', 23: 'w', 24: 'x', 25: 'y', 26: 'z', 27: '0', 28: '1', 29: '2', 30: '3', 31: '4', 32: '5', 33: '6', 34: '7', 35: '8', 36: '9', 37: '\\t', 38: '\\n', 39: '#'}\n"
     ]
    }
   ],
   "source": [
    "count = len(char_set)\n",
    "codes = [\"\\t\",\"\\n\",'#']\n",
    "for i in range(len(codes)):\n",
    "    code = codes[i]\n",
    "    char2int[code]=count\n",
    "    int2char[count]=code\n",
    "    count+=1\n",
    "print(char2int)\n",
    "print(int2char)"
   ]
  },
  {
   "cell_type": "code",
   "execution_count": 8,
   "metadata": {},
   "outputs": [
    {
     "name": "stdout",
     "output_type": "stream",
     "text": [
      "Original: bowral\n",
      "Gibberish: bowral\n"
     ]
    }
   ],
   "source": [
    "import random\n",
    "#thresh - 0 to 1\n",
    "def gen_gibberish(line,thresh=0.2):\n",
    "    times = int(random.randrange(1,len(line)) * thresh)\n",
    "    '''\n",
    "    Types of replacement:\n",
    "        1.Delete random character.\n",
    "        2.Add random character.\n",
    "        3.Replace a character.\n",
    "        4.Combination?\n",
    "    '''\n",
    "    while times!=0:\n",
    "        # try to gen noise length times...\n",
    "        times-=1\n",
    "        val = random.randrange(0,10)\n",
    "        if val <= 5:\n",
    "            #get random index\n",
    "            val = random.randrange(0,10)\n",
    "            index = random.randrange(2,len(line))\n",
    "            if val <= 3 :\n",
    "                #delete character\n",
    "                line = line[:index]+line[index+1:]\n",
    "            else:\n",
    "                #add character\n",
    "                insert_index = random.randrange(0,len(char_set))\n",
    "                line = line[:index] + char_set[insert_index] + line[index:]\n",
    "        else:\n",
    "            index = random.randrange(0,len(char_set))\n",
    "            replace_index = random.randrange(2,len(line))\n",
    "            line = line[:replace_index] + char_set[index] + line[replace_index+1:]\n",
    "    return line\n",
    "\n",
    "sample = lines[5]\n",
    "gib = gen_gibberish(sample)\n",
    "print(\"Original:\",sample)\n",
    "print(\"Gibberish:\",gib)\n",
    "        \n",
    "    "
   ]
  },
  {
   "cell_type": "code",
   "execution_count": 9,
   "metadata": {},
   "outputs": [
    {
     "name": "stdout",
     "output_type": "stream",
     "text": [
      "LEN OF SAMPLES: 15151\n"
     ]
    }
   ],
   "source": [
    "# create dataset\n",
    "input_texts = []\n",
    "target_texts = []\n",
    "REPEAT_FACTOR = 1\n",
    "SKIP = int(len(lines)*0.65)\n",
    "\n",
    "for line in lines[SKIP:]:\n",
    "    if len(line)>10:\n",
    "        output_text = '\\t' + line + '\\n'\n",
    "        for _ in range(REPEAT_FACTOR):\n",
    "            input_text = gen_gibberish(line)\n",
    "            input_texts.append(input_text)\n",
    "            target_texts.append(output_text)\n",
    "print(\"LEN OF SAMPLES:\",len(input_texts))"
   ]
  },
  {
   "cell_type": "code",
   "execution_count": 10,
   "metadata": {},
   "outputs": [
    {
     "name": "stdout",
     "output_type": "stream",
     "text": [
      "Max Enc Len: 36\n",
      "Max Dec Len: 37\n"
     ]
    }
   ],
   "source": [
    "max_enc_len = max([len(x) for x in input_texts])\n",
    "max_dec_len = max([len(x) for x in target_texts])\n",
    "print(\"Max Enc Len:\",max_enc_len)\n",
    "print(\"Max Dec Len:\",max_dec_len)"
   ]
  },
  {
   "cell_type": "code",
   "execution_count": 11,
   "metadata": {},
   "outputs": [
    {
     "name": "stdout",
     "output_type": "stream",
     "text": [
      "CREATED ZERO VECTORS\n"
     ]
    }
   ],
   "source": [
    "num_samples = len(input_texts)\n",
    "encoder_input_data = np.zeros( (num_samples , max_enc_len , len(char_set)),dtype='float32' )\n",
    "decoder_input_data = np.zeros( (num_samples , max_dec_len , len(char_set)+2),dtype='float32' )\n",
    "decoder_target_data = np.zeros( (num_samples , max_dec_len , len(char_set)+2),dtype='float32' )\n",
    "print(\"CREATED ZERO VECTORS\")"
   ]
  },
  {
   "cell_type": "code",
   "execution_count": 12,
   "metadata": {},
   "outputs": [
    {
     "name": "stdout",
     "output_type": "stream",
     "text": [
      "COMPLETED...\n"
     ]
    }
   ],
   "source": [
    "#filling in the enc,dec datas\n",
    "for i,(input_text,target_text) in enumerate(zip(input_texts,target_texts)):\n",
    "    for t,char in enumerate(input_text):\n",
    "        encoder_input_data[ i , t , char2int[char] ] = 1\n",
    "    for t,char in enumerate(target_text):\n",
    "        decoder_input_data[ i, t , char2int[char] ] = 1\n",
    "        if t > 0 :\n",
    "            decoder_target_data[ i , t-1 , char2int[char] ] = 1\n",
    "print(\"COMPLETED...\")    "
   ]
  },
  {
   "cell_type": "code",
   "execution_count": 13,
   "metadata": {},
   "outputs": [
    {
     "name": "stderr",
     "output_type": "stream",
     "text": [
      "Using TensorFlow backend.\n"
     ]
    }
   ],
   "source": [
    "from keras.models import Model\n",
    "from keras.layers import Input,LSTM,Dense"
   ]
  },
  {
   "cell_type": "code",
   "execution_count": 14,
   "metadata": {},
   "outputs": [],
   "source": [
    "batch_size = 128\n",
    "epochs = 1000\n",
    "latent_dim = 256\n",
    "\n",
    "num_enc_tokens = len(char_set)\n",
    "num_dec_tokens = len(char_set) + 2 # includes \\n \\t\n",
    "encoder_inputs = Input(shape=(None,num_enc_tokens))\n",
    "encoder = LSTM(latent_dim,return_state=True)\n",
    "encoder_outputs , state_h, state_c = encoder(encoder_inputs)\n",
    "encoder_states = [state_h,state_c]\n"
   ]
  },
  {
   "cell_type": "code",
   "execution_count": 15,
   "metadata": {},
   "outputs": [
    {
     "name": "stdout",
     "output_type": "stream",
     "text": [
      "__________________________________________________________________________________________________\n",
      "Layer (type)                    Output Shape         Param #     Connected to                     \n",
      "==================================================================================================\n",
      "input_1 (InputLayer)            (None, None, 37)     0                                            \n",
      "__________________________________________________________________________________________________\n",
      "input_2 (InputLayer)            (None, None, 39)     0                                            \n",
      "__________________________________________________________________________________________________\n",
      "lstm_1 (LSTM)                   [(None, 256), (None, 301056      input_1[0][0]                    \n",
      "__________________________________________________________________________________________________\n",
      "lstm_2 (LSTM)                   [(None, None, 256),  303104      input_2[0][0]                    \n",
      "                                                                 lstm_1[0][1]                     \n",
      "                                                                 lstm_1[0][2]                     \n",
      "__________________________________________________________________________________________________\n",
      "dense_1 (Dense)                 (None, None, 39)     10023       lstm_2[0][0]                     \n",
      "==================================================================================================\n",
      "Total params: 614,183\n",
      "Trainable params: 614,183\n",
      "Non-trainable params: 0\n",
      "__________________________________________________________________________________________________\n"
     ]
    }
   ],
   "source": [
    "decoder_inputs = Input(shape=(None,num_dec_tokens))\n",
    "decoder_lstm = LSTM(latent_dim,return_sequences=True,return_state=True)\n",
    "decoder_ouputs,_,_ = decoder_lstm(decoder_inputs,initial_state = encoder_states)\n",
    "\n",
    "decoder_dense = Dense(num_dec_tokens, activation='softmax')\n",
    "decoder_ouputs = decoder_dense(decoder_ouputs)\n",
    "\n",
    "model = Model([encoder_inputs,decoder_inputs],decoder_ouputs)\n",
    "model.compile(optimizer='rmsprop',loss='categorical_crossentropy')\n",
    "model.summary()"
   ]
  },
  {
   "cell_type": "code",
   "execution_count": 16,
   "metadata": {},
   "outputs": [
    {
     "name": "stdout",
     "output_type": "stream",
     "text": [
      "Train on 12120 samples, validate on 3031 samples\n",
      "Epoch 1/1000\n",
      "12120/12120 [==============================] - 13s 1ms/step - loss: 1.0475 - val_loss: 1.0058\n",
      "Epoch 2/1000\n",
      "12120/12120 [==============================] - 8s 696us/step - loss: 0.9644 - val_loss: 0.9287\n",
      "Epoch 3/1000\n",
      "12120/12120 [==============================] - 8s 700us/step - loss: 0.9050 - val_loss: 0.8901\n",
      "Epoch 4/1000\n",
      "12120/12120 [==============================] - 8s 687us/step - loss: 0.8718 - val_loss: 0.8626\n",
      "Epoch 5/1000\n",
      "12120/12120 [==============================] - 8s 687us/step - loss: 0.8514 - val_loss: 0.8445\n",
      "Epoch 6/1000\n",
      "12120/12120 [==============================] - 8s 689us/step - loss: 0.8368 - val_loss: 0.8310\n",
      "Epoch 7/1000\n",
      "12120/12120 [==============================] - 8s 687us/step - loss: 0.8237 - val_loss: 0.8261\n",
      "Epoch 8/1000\n",
      "12120/12120 [==============================] - 8s 691us/step - loss: 0.8116 - val_loss: 0.8164\n",
      "Epoch 9/1000\n",
      "12120/12120 [==============================] - 8s 685us/step - loss: 0.7923 - val_loss: 0.7934\n",
      "Epoch 10/1000\n",
      "12120/12120 [==============================] - 8s 687us/step - loss: 0.7731 - val_loss: 0.7713\n",
      "Epoch 11/1000\n",
      "12120/12120 [==============================] - 8s 686us/step - loss: 0.7577 - val_loss: 0.7627\n",
      "Epoch 12/1000\n",
      "12120/12120 [==============================] - 8s 691us/step - loss: 0.7433 - val_loss: 0.7502\n",
      "Epoch 13/1000\n",
      "12120/12120 [==============================] - 8s 688us/step - loss: 0.7245 - val_loss: 0.7236\n",
      "Epoch 14/1000\n",
      "12120/12120 [==============================] - 8s 683us/step - loss: 0.6972 - val_loss: 0.7006\n",
      "Epoch 15/1000\n",
      "12120/12120 [==============================] - 8s 681us/step - loss: 0.6693 - val_loss: 0.6809\n",
      "Epoch 16/1000\n",
      "12120/12120 [==============================] - 8s 681us/step - loss: 0.6507 - val_loss: 0.6557\n",
      "Epoch 17/1000\n",
      "12120/12120 [==============================] - 8s 682us/step - loss: 0.6329 - val_loss: 0.6495\n",
      "Epoch 18/1000\n",
      "12120/12120 [==============================] - 8s 686us/step - loss: 0.6134 - val_loss: 0.6329\n",
      "Epoch 19/1000\n",
      "12120/12120 [==============================] - 8s 681us/step - loss: 0.5931 - val_loss: 0.6312\n",
      "Epoch 20/1000\n",
      "12120/12120 [==============================] - 8s 686us/step - loss: 0.5756 - val_loss: 0.6037\n",
      "Epoch 21/1000\n",
      "12120/12120 [==============================] - 8s 687us/step - loss: 0.5570 - val_loss: 0.5917\n",
      "Epoch 22/1000\n",
      "12120/12120 [==============================] - 8s 689us/step - loss: 0.5396 - val_loss: 0.5793\n",
      "Epoch 23/1000\n",
      "12120/12120 [==============================] - 8s 681us/step - loss: 0.5207 - val_loss: 0.5603\n",
      "Epoch 24/1000\n",
      "12120/12120 [==============================] - 8s 677us/step - loss: 0.5016 - val_loss: 0.5421\n",
      "Epoch 25/1000\n",
      "12120/12120 [==============================] - 8s 680us/step - loss: 0.4833 - val_loss: 0.5347\n",
      "Epoch 26/1000\n",
      "12120/12120 [==============================] - 8s 682us/step - loss: 0.4663 - val_loss: 0.5133\n",
      "Epoch 27/1000\n",
      "12120/12120 [==============================] - 8s 697us/step - loss: 0.4496 - val_loss: 0.4958\n",
      "Epoch 28/1000\n",
      "12120/12120 [==============================] - 8s 677us/step - loss: 0.4349 - val_loss: 0.4935\n",
      "Epoch 29/1000\n",
      "12120/12120 [==============================] - 8s 673us/step - loss: 0.4200 - val_loss: 0.4819\n",
      "Epoch 30/1000\n",
      "12120/12120 [==============================] - 8s 670us/step - loss: 0.4054 - val_loss: 0.4806\n",
      "Epoch 31/1000\n",
      "12120/12120 [==============================] - 8s 675us/step - loss: 0.3926 - val_loss: 0.4651\n",
      "Epoch 32/1000\n",
      "12120/12120 [==============================] - 9s 732us/step - loss: 0.3799 - val_loss: 0.4518\n",
      "Epoch 33/1000\n",
      "12120/12120 [==============================] - 8s 677us/step - loss: 0.3666 - val_loss: 0.4683\n",
      "Epoch 34/1000\n",
      "12120/12120 [==============================] - 8s 673us/step - loss: 0.3557 - val_loss: 0.4486\n",
      "Epoch 35/1000\n",
      "12120/12120 [==============================] - 8s 674us/step - loss: 0.3426 - val_loss: 0.4455\n",
      "Epoch 36/1000\n",
      "12120/12120 [==============================] - 8s 675us/step - loss: 0.3344 - val_loss: 0.4392\n",
      "Epoch 37/1000\n",
      "12120/12120 [==============================] - 8s 685us/step - loss: 0.3224 - val_loss: 0.4343\n",
      "Epoch 38/1000\n",
      "12120/12120 [==============================] - 8s 669us/step - loss: 0.3115 - val_loss: 0.4368\n",
      "Epoch 39/1000\n",
      "12120/12120 [==============================] - 8s 671us/step - loss: 0.3018 - val_loss: 0.4264\n",
      "Epoch 40/1000\n",
      "12120/12120 [==============================] - 8s 675us/step - loss: 0.2914 - val_loss: 0.4287\n",
      "Epoch 41/1000\n",
      "12120/12120 [==============================] - 8s 678us/step - loss: 0.2819 - val_loss: 0.4195\n",
      "Epoch 42/1000\n",
      "12120/12120 [==============================] - 8s 675us/step - loss: 0.2727 - val_loss: 0.4253\n",
      "Epoch 43/1000\n",
      "12120/12120 [==============================] - 8s 674us/step - loss: 0.2637 - val_loss: 0.4204\n",
      "Epoch 44/1000\n",
      "12120/12120 [==============================] - 8s 672us/step - loss: 0.2547 - val_loss: 0.4157\n",
      "Epoch 45/1000\n",
      "12120/12120 [==============================] - 8s 674us/step - loss: 0.2468 - val_loss: 0.4310\n",
      "Epoch 46/1000\n",
      "12120/12120 [==============================] - 8s 672us/step - loss: 0.2381 - val_loss: 0.4047\n",
      "Epoch 47/1000\n",
      "12120/12120 [==============================] - 8s 676us/step - loss: 0.2297 - val_loss: 0.4149\n",
      "Epoch 48/1000\n",
      "12120/12120 [==============================] - 8s 675us/step - loss: 0.2210 - val_loss: 0.4173\n",
      "Epoch 49/1000\n",
      "12120/12120 [==============================] - 8s 681us/step - loss: 0.2140 - val_loss: 0.4159\n",
      "Epoch 50/1000\n",
      "12120/12120 [==============================] - 8s 670us/step - loss: 0.2061 - val_loss: 0.4173\n",
      "Epoch 51/1000\n",
      "12120/12120 [==============================] - 8s 683us/step - loss: 0.1989 - val_loss: 0.4138\n",
      "Epoch 52/1000\n",
      "12120/12120 [==============================] - 8s 674us/step - loss: 0.1914 - val_loss: 0.4202\n",
      "Epoch 53/1000\n",
      "12120/12120 [==============================] - 8s 668us/step - loss: 0.1846 - val_loss: 0.4199\n",
      "Epoch 54/1000\n",
      "12120/12120 [==============================] - 8s 672us/step - loss: 0.1784 - val_loss: 0.4215\n",
      "Epoch 55/1000\n",
      "12120/12120 [==============================] - 8s 672us/step - loss: 0.1709 - val_loss: 0.4261\n",
      "Epoch 56/1000\n",
      "12120/12120 [==============================] - 8s 670us/step - loss: 0.1652 - val_loss: 0.4331\n",
      "Epoch 57/1000\n",
      "12120/12120 [==============================] - 8s 675us/step - loss: 0.1593 - val_loss: 0.4419\n",
      "Epoch 58/1000\n",
      "12120/12120 [==============================] - 8s 678us/step - loss: 0.1525 - val_loss: 0.4303\n",
      "Epoch 59/1000\n",
      "12120/12120 [==============================] - 8s 670us/step - loss: 0.1469 - val_loss: 0.4368\n",
      "Epoch 60/1000\n",
      "12120/12120 [==============================] - 8s 670us/step - loss: 0.1410 - val_loss: 0.4357\n",
      "Epoch 61/1000\n",
      "12120/12120 [==============================] - 8s 678us/step - loss: 0.1357 - val_loss: 0.4412\n",
      "Epoch 62/1000\n",
      "12120/12120 [==============================] - 8s 678us/step - loss: 0.1303 - val_loss: 0.4428\n",
      "Epoch 63/1000\n",
      " 5888/12120 [=============>................] - ETA: 3s - loss: 0.1232"
     ]
    }
   ],
   "source": [
    "h=model.fit([encoder_input_data,decoder_input_data],decoder_target_data\n",
    "         ,epochs = epochs,\n",
    "          batch_size = batch_size,\n",
    "          validation_split = 0.2\n",
    "         )\n",
    "model.save('s2s.h5')\n"
   ]
  },
  {
   "cell_type": "code",
   "execution_count": 17,
   "metadata": {},
   "outputs": [
    {
     "data": {
      "image/png": "[encoded data removed]",
      "text/plain": [
       "<Figure size 432x288 with 1 Axes>"
      ]
     },
     "metadata": {
      "needs_background": "light"
     },
     "output_type": "display_data"
    }
   ],
   "source": [
    "plt.plot(h.history['loss'])\n",
    "plt.title('Model Loss')\n",
    "plt.show()"
   ]
  },
  {
   "cell_type": "code",
   "execution_count": 18,
   "metadata": {},
   "outputs": [
    {
     "name": "stderr",
     "output_type": "stream",
     "text": [
      "/opt/conda/lib/python3.6/site-packages/keras/engine/network.py:877: UserWarning: Layer lstm_2 was passed non-serializable keyword arguments: {'initial_state': [<tf.Tensor 'input_3:0' shape=(?, 256) dtype=float32>, <tf.Tensor 'input_4:0' shape=(?, 256) dtype=float32>]}. They will not be included in the serialized model (and thus will be missing at deserialization time).\n",
      "  '. They will not be included '\n"
     ]
    },
    {
     "name": "stdout",
     "output_type": "stream",
     "text": [
      "-\n",
      "Wrong sentence: subramaniam\n",
      "Corrected sentence: subramaniam\n",
      "\n",
      "Ground Truth: \tsubramaniam\n",
      "\n",
      "-\n",
      "Wrong sentence: supplement0ng\n",
      "Corrected sentence: supplementing\n",
      "\n",
      "Ground Truth: \tsupplementing\n",
      "\n",
      "-\n",
      "Wrong sentence: unquestioing\n",
      "Corrected sentence: unquestioning\n",
      "\n",
      "Ground Truth: \tunquestioning\n",
      "\n",
      "-\n",
      "Wrong sentence: se7sialportal\n",
      "Corrected sentence: serialportal\n",
      "\n",
      "Ground Truth: \tserialportal\n",
      "\n",
      "-\n",
      "Wrong sentence: accentuated\n",
      "Corrected sentence: accentuated\n",
      "\n",
      "Ground Truth: \taccentuated\n",
      "\n",
      "-\n",
      "Wrong sentence: negativland\n",
      "Corrected sentence: negativland\n",
      "\n",
      "Ground Truth: \tnegativland\n",
      "\n",
      "-\n",
      "Wrong sentence: tawneestone\n",
      "Corrected sentence: tawneestone\n",
      "\n",
      "Ground Truth: \ttawneestone\n",
      "\n",
      "-\n",
      "Wrong sentence: soundtracks\n",
      "Corrected sentence: soundtracks\n",
      "\n",
      "Ground Truth: \tsoundtracks\n",
      "\n",
      "-\n",
      "Wrong sentence: uninstallation\n",
      "Corrected sentence: uninstaltability\n",
      "\n",
      "Ground Truth: \tuninstallation\n",
      "\n",
      "-\n",
      "Wrong sentence: beasfiality\n",
      "Corrected sentence: beasfiality\n",
      "\n",
      "Ground Truth: \tbeasfiality\n",
      "\n"
     ]
    }
   ],
   "source": [
    "encoder_model = Model(encoder_inputs,encoder_states)\n",
    "\n",
    "decoder_state_input_h = Input(shape=(latent_dim,))\n",
    "decoder_state_input_c = Input(shape=(latent_dim,))\n",
    "decoder_states_inputs = [decoder_state_input_h,decoder_state_input_c]\n",
    "decoder_outputs,state_h,state_c = decoder_lstm(\n",
    "        decoder_inputs,initial_state = decoder_states_inputs\n",
    ")\n",
    "decoder_states = [state_h,state_c]\n",
    "decoder_outputs = decoder_dense(decoder_outputs)\n",
    "decoder_model = Model(\n",
    "    [decoder_inputs] + decoder_states_inputs,\n",
    "    [decoder_outputs] + decoder_states\n",
    ")\n",
    "encoder_model.save('encoder.h5')\n",
    "decoder_model.save('decoder.h5')\n",
    "\n",
    "def decode_sequence(input_seq):\n",
    "    # Encode the input as state vectors.\n",
    "    states_value = encoder_model.predict(input_seq)\n",
    "\n",
    "    # Generate empty target sequence of length 1.\n",
    "    target_seq = np.zeros((1, 1, num_dec_tokens))\n",
    "    # Populate the first character of target sequence with the start character.\n",
    "    target_seq[0, 0, char2int['\\t']] = 1.\n",
    "\n",
    "    # Sampling loop for a batch of sequences\n",
    "    # (to simplify, here we assume a batch of size 1).\n",
    "    stop_condition = False\n",
    "    decoded_sentence = ''\n",
    "    while not stop_condition:\n",
    "        output_tokens, h, c = decoder_model.predict(\n",
    "            [target_seq] + states_value)\n",
    "\n",
    "        # Sample a token\n",
    "        sampled_token_index = np.argmax(output_tokens[0, -1, :])\n",
    "        sampled_char = int2char[sampled_token_index]\n",
    "        decoded_sentence += sampled_char\n",
    "\n",
    "        # Exit condition: either hit max length\n",
    "        # or find stop character.\n",
    "        if (sampled_char == '\\n' or\n",
    "           len(decoded_sentence) > max_dec_len):\n",
    "            stop_condition = True\n",
    "\n",
    "        # Update the target sequence (of length 1).\n",
    "        target_seq = np.zeros((1, 1, num_dec_tokens))\n",
    "        target_seq[0, 0, sampled_token_index] = 1.\n",
    "\n",
    "        # Update states\n",
    "        states_value = [h, c]\n",
    "\n",
    "    return decoded_sentence\n",
    "\n",
    "for seq_index in range(10):\n",
    "    input_seq = encoder_input_data[seq_index: seq_index + 1]\n",
    "    decoded_sentence = decode_sequence(input_seq)\n",
    "    print('-')\n",
    "    print('Wrong sentence:', input_texts[seq_index])\n",
    "    print('Corrected sentence:', decoded_sentence)\n",
    "    print('Ground Truth:',target_texts[seq_index])"
   ]
  }
 ],
 "metadata": {
  "kernelspec": {
   "display_name": "Python 3",
   "language": "python",
   "name": "python3"
  },
  "language_info": {
   "codemirror_mode": {
    "name": "ipython",
    "version": 3
   },
   "file_extension": ".py",
   "mimetype": "text/x-python",
   "name": "python",
   "nbconvert_exporter": "python",
   "pygments_lexer": "ipython3",
   "version": "3.6.6"
  }
 },
 "nbformat": 4,
 "nbformat_minor": 1
}
